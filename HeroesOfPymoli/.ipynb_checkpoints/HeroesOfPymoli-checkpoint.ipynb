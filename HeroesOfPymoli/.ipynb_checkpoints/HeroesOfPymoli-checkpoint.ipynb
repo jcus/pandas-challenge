{
 "cells": [
  {
   "cell_type": "markdown",
   "metadata": {},
   "source": [
    "### Note\n",
    "* Instructions have been included for each segment. You do not have to follow them exactly, but they are included to help you think through the steps."
   ]
  },
  {
   "cell_type": "code",
   "execution_count": 1,
   "metadata": {},
   "outputs": [],
   "source": [
    "# Dependencies and Setup\n",
    "import pandas as pd\n",
    "\n",
    "# File to Load (Remember to Change These)\n",
    "file_to_load = \"Resources/purchase_data.csv\"\n",
    "\n",
    "# Read Purchasing File and store into Pandas data frame\n",
    "purchase_data = pd.read_csv(file_to_load)"
   ]
  },
  {
   "cell_type": "code",
   "execution_count": 2,
   "metadata": {},
   "outputs": [
    {
     "data": {
      "text/html": [
       "<div>\n",
       "<style scoped>\n",
       "    .dataframe tbody tr th:only-of-type {\n",
       "        vertical-align: middle;\n",
       "    }\n",
       "\n",
       "    .dataframe tbody tr th {\n",
       "        vertical-align: top;\n",
       "    }\n",
       "\n",
       "    .dataframe thead th {\n",
       "        text-align: right;\n",
       "    }\n",
       "</style>\n",
       "<table border=\"1\" class=\"dataframe\">\n",
       "  <thead>\n",
       "    <tr style=\"text-align: right;\">\n",
       "      <th></th>\n",
       "      <th>Purchase ID</th>\n",
       "      <th>SN</th>\n",
       "      <th>Age</th>\n",
       "      <th>Gender</th>\n",
       "      <th>Item ID</th>\n",
       "      <th>Item Name</th>\n",
       "      <th>Price</th>\n",
       "    </tr>\n",
       "  </thead>\n",
       "  <tbody>\n",
       "    <tr>\n",
       "      <th>0</th>\n",
       "      <td>0</td>\n",
       "      <td>Lisim78</td>\n",
       "      <td>20</td>\n",
       "      <td>Male</td>\n",
       "      <td>108</td>\n",
       "      <td>Extraction, Quickblade Of Trembling Hands</td>\n",
       "      <td>3.53</td>\n",
       "    </tr>\n",
       "    <tr>\n",
       "      <th>1</th>\n",
       "      <td>1</td>\n",
       "      <td>Lisovynya38</td>\n",
       "      <td>40</td>\n",
       "      <td>Male</td>\n",
       "      <td>143</td>\n",
       "      <td>Frenzied Scimitar</td>\n",
       "      <td>1.56</td>\n",
       "    </tr>\n",
       "    <tr>\n",
       "      <th>2</th>\n",
       "      <td>2</td>\n",
       "      <td>Ithergue48</td>\n",
       "      <td>24</td>\n",
       "      <td>Male</td>\n",
       "      <td>92</td>\n",
       "      <td>Final Critic</td>\n",
       "      <td>4.88</td>\n",
       "    </tr>\n",
       "    <tr>\n",
       "      <th>3</th>\n",
       "      <td>3</td>\n",
       "      <td>Chamassasya86</td>\n",
       "      <td>24</td>\n",
       "      <td>Male</td>\n",
       "      <td>100</td>\n",
       "      <td>Blindscythe</td>\n",
       "      <td>3.27</td>\n",
       "    </tr>\n",
       "    <tr>\n",
       "      <th>4</th>\n",
       "      <td>4</td>\n",
       "      <td>Iskosia90</td>\n",
       "      <td>23</td>\n",
       "      <td>Male</td>\n",
       "      <td>131</td>\n",
       "      <td>Fury</td>\n",
       "      <td>1.44</td>\n",
       "    </tr>\n",
       "  </tbody>\n",
       "</table>\n",
       "</div>"
      ],
      "text/plain": [
       "   Purchase ID             SN  Age Gender  Item ID  \\\n",
       "0            0        Lisim78   20   Male      108   \n",
       "1            1    Lisovynya38   40   Male      143   \n",
       "2            2     Ithergue48   24   Male       92   \n",
       "3            3  Chamassasya86   24   Male      100   \n",
       "4            4      Iskosia90   23   Male      131   \n",
       "\n",
       "                                   Item Name  Price  \n",
       "0  Extraction, Quickblade Of Trembling Hands   3.53  \n",
       "1                          Frenzied Scimitar   1.56  \n",
       "2                               Final Critic   4.88  \n",
       "3                                Blindscythe   3.27  \n",
       "4                                       Fury   1.44  "
      ]
     },
     "execution_count": 2,
     "metadata": {},
     "output_type": "execute_result"
    }
   ],
   "source": [
    "purchase_data.head()"
   ]
  },
  {
   "cell_type": "markdown",
   "metadata": {},
   "source": [
    "## Player Count"
   ]
  },
  {
   "cell_type": "markdown",
   "metadata": {},
   "source": [
    "* Display the total number of players\n"
   ]
  },
  {
   "cell_type": "code",
   "execution_count": 3,
   "metadata": {},
   "outputs": [
    {
     "data": {
      "text/plain": [
       "[     Purchase ID             SN  Age  Gender  Item ID  \\\n",
       " 0              0        Lisim78   20    Male      108   \n",
       " 1              1    Lisovynya38   40    Male      143   \n",
       " 2              2     Ithergue48   24    Male       92   \n",
       " 3              3  Chamassasya86   24    Male      100   \n",
       " 4              4      Iskosia90   23    Male      131   \n",
       " ..           ...            ...  ...     ...      ...   \n",
       " 775          775     Aethedru70   21  Female       60   \n",
       " 776          776         Iral74   21    Male      164   \n",
       " 777          777     Yathecal72   20    Male       67   \n",
       " 778          778        Sisur91    7    Male       92   \n",
       " 779          779      Ennrian78   24    Male       50   \n",
       " \n",
       "                                      Item Name  Price  \n",
       " 0    Extraction, Quickblade Of Trembling Hands   3.53  \n",
       " 1                            Frenzied Scimitar   1.56  \n",
       " 2                                 Final Critic   4.88  \n",
       " 3                                  Blindscythe   3.27  \n",
       " 4                                         Fury   1.44  \n",
       " ..                                         ...    ...  \n",
       " 775                                       Wolf   3.54  \n",
       " 776                           Exiled Doomblade   1.63  \n",
       " 777      Celeste, Incarnation of the Corrupted   3.46  \n",
       " 778                               Final Critic   4.19  \n",
       " 779                                       Dawn   4.60  \n",
       " \n",
       " [780 rows x 7 columns],\n",
       " 'Purchase ID',\n",
       " 'SN',\n",
       " 'Age',\n",
       " 'Gender',\n",
       " 'Item ID',\n",
       " 'Item Name',\n",
       " 'Price']"
      ]
     },
     "execution_count": 3,
     "metadata": {},
     "output_type": "execute_result"
    }
   ],
   "source": [
    "# count the total number of players\n",
    "\n",
    "# check data 1\n",
    "list1 = [purchase_data,'Purchase ID','SN','Age','Gender','Item ID','Item Name','Price']\n",
    "list1\n",
    "\n",
    "# check data 2\n",
    "#purchase_data.describe()"
   ]
  },
  {
   "cell_type": "code",
   "execution_count": 9,
   "metadata": {},
   "outputs": [
    {
     "data": {
      "text/html": [
       "<div>\n",
       "<style scoped>\n",
       "    .dataframe tbody tr th:only-of-type {\n",
       "        vertical-align: middle;\n",
       "    }\n",
       "\n",
       "    .dataframe tbody tr th {\n",
       "        vertical-align: top;\n",
       "    }\n",
       "\n",
       "    .dataframe thead th {\n",
       "        text-align: right;\n",
       "    }\n",
       "</style>\n",
       "<table border=\"1\" class=\"dataframe\">\n",
       "  <thead>\n",
       "    <tr style=\"text-align: right;\">\n",
       "      <th></th>\n",
       "      <th>Total Player</th>\n",
       "    </tr>\n",
       "  </thead>\n",
       "  <tbody>\n",
       "    <tr>\n",
       "      <th>0</th>\n",
       "      <td>576</td>\n",
       "    </tr>\n",
       "  </tbody>\n",
       "</table>\n",
       "</div>"
      ],
      "text/plain": [
       "   Total Player\n",
       "0           576"
      ]
     },
     "execution_count": 9,
     "metadata": {},
     "output_type": "execute_result"
    }
   ],
   "source": [
    "# Total Player 1\n",
    "#print('Total Players : ', len(purchase_data.index))\n",
    "number_of_player = len(purchase_data[\"SN\"].unique())\n",
    "number_of_player\n",
    "\n",
    "#Create dataframe\n",
    "playerTotalDF = pd.DataFrame({\"Total Player\": [number_of_player]})\n",
    "playerTotalDF"
   ]
  },
  {
   "cell_type": "code",
   "execution_count": 13,
   "metadata": {},
   "outputs": [
    {
     "data": {
      "text/html": [
       "<div>\n",
       "<style scoped>\n",
       "    .dataframe tbody tr th:only-of-type {\n",
       "        vertical-align: middle;\n",
       "    }\n",
       "\n",
       "    .dataframe tbody tr th {\n",
       "        vertical-align: top;\n",
       "    }\n",
       "\n",
       "    .dataframe thead th {\n",
       "        text-align: right;\n",
       "    }\n",
       "</style>\n",
       "<table border=\"1\" class=\"dataframe\">\n",
       "  <thead>\n",
       "    <tr style=\"text-align: right;\">\n",
       "      <th></th>\n",
       "      <th>Total Player</th>\n",
       "    </tr>\n",
       "  </thead>\n",
       "  <tbody>\n",
       "    <tr>\n",
       "      <th>0</th>\n",
       "      <td>780</td>\n",
       "    </tr>\n",
       "  </tbody>\n",
       "</table>\n",
       "</div>"
      ],
      "text/plain": [
       "   Total Player\n",
       "0           780"
      ]
     },
     "execution_count": 13,
     "metadata": {},
     "output_type": "execute_result"
    }
   ],
   "source": [
    "# Total Player 2\n",
    "number_of_player=len(purchase_data)\n",
    "number_of_player\n",
    "#print(\"Total Players \", number_of_player)\n",
    "\n",
    "# displaying the DataFrame\n",
    "data = {\"Total Player\":[number_of_player]}\n",
    "df = pd.DataFrame(data)\n",
    "df\n",
    "\n",
    "# Total Player 3\n",
    "#total_rows = purchase_data['Purchase ID'].count\n",
    "#total_rows\n",
    "\n",
    "# Total Player 4\n",
    "# pandas count distinct values in column\n",
    "#TotalPlayer= purchase_data['Purchase ID'].value_counts()\n",
    "#TotalPlayer"
   ]
  },
  {
   "cell_type": "markdown",
   "metadata": {},
   "source": [
    "## Purchasing Analysis (Total)"
   ]
  },
  {
   "cell_type": "markdown",
   "metadata": {},
   "source": [
    "* Run basic calculations to obtain number of unique items, average price, etc.\n",
    "\n",
    "\n",
    "* Create a summary data frame to hold the results\n",
    "\n",
    "\n",
    "* Optional: give the displayed data cleaner formatting\n",
    "\n",
    "\n",
    "* Display the summary data frame\n"
   ]
  },
  {
   "cell_type": "code",
   "execution_count": 20,
   "metadata": {
    "scrolled": true
   },
   "outputs": [
    {
     "name": "stdout",
     "output_type": "stream",
     "text": [
      "Number of Unique Items  179\n",
      "Average Price  3.05\n",
      "Number of Purchases  780\n",
      "Total Revenue  2379.77\n"
     ]
    }
   ],
   "source": [
    "#Run basic calculations to obtain number of unique items, average price, etc.\n",
    "#list1 = [purchase_data,'Purchase ID','SN','Age','Gender','Item ID','Item Name','Price']\n",
    "#list1\n",
    "\n",
    "# Number of unique item\n",
    "Number_of_unique_Item = len(purchase_data[\"Item Name\"].unique())\n",
    "#Number_of_unique_Item = len(set(purchase_data['Item Name']))\n",
    "print(\"Number of Unique Items \", Number_of_unique_Item)\n",
    "\n",
    "# Average price and get decimal 2\n",
    "avgPrice = round(purchase_data[\"Price\"].mean(),2)\n",
    "print(\"Average Price \", avgPrice)\n",
    "\n",
    "# Number of PurchasesavgPrice\n",
    "number_of_purchases=len(purchase_data)\n",
    "print(\"Number of Purchases \", number_of_purchases)\n",
    "\n",
    "# Collecting the total revenue\n",
    "totalRev = purchase_data[\"Price\"].sum()\n",
    "print(\"Total Revenue \", totalRev)\n",
    "\n",
    "# displaying the DataFrame\n",
    "# add $ to average price\n",
    "#SummaryData['avgPrice'] = SummaryData['avgPrice'].str.strip('$')\n",
    "# Use Map to format the total revenue\n",
    "#SummaryData[\"totalRev\"] =SummaryData[\"totalRev\"].map(\"${:.2f}\".format)\n",
    "##df1[\"avgPrice\"] = df1_df[\"avgPrice\"].str.replace(\"%\", \"\").astype('float')"
   ]
  },
  {
   "cell_type": "code",
   "execution_count": null,
   "metadata": {},
   "outputs": [],
   "source": [
    "#Create a summary data frame to hold the results\n",
    "SummaryData ={\"Number of Unique Items\":[Number_of_unique_Item], \"Average Price\":[avgPrice], \n",
    "                \"Number of Purchases\":[number_of_purchases],\"Total Revenue\":[totalRev]\n",
    "              } \n",
    "#SummaryData[\"Total Revenue\"] = SummaryData[\"Total Revenue\"].map(\"${0:,.0f}\".format)\n",
    "#Optional: give the displayed data cleaner formatting   #.style.format('${0:,.2f}'))   , '${:.2f}'.format \n",
    "df1 = pd.DataFrame(SummaryData)\n",
    "df1[\"Total Revenue\"] = df1[\"Total Revenue\"].map(\n",
    "    \"${0:,.2f}\".format)\n",
    "df1[\"Average Price\"] = df1[\"Average Price\"].map(\n",
    "    \"${0:,.2f}\".format)\n",
    "df1"
   ]
  },
  {
   "cell_type": "markdown",
   "metadata": {},
   "source": [
    "## Gender Demographics"
   ]
  },
  {
   "cell_type": "markdown",
   "metadata": {},
   "source": [
    "* Percentage and Count of Male Players\n",
    "\n",
    "\n",
    "* Percentage and Count of Female Players\n",
    "\n",
    "\n",
    "* Percentage and Count of Other / Non-Disclosed\n",
    "\n",
    "\n"
   ]
  },
  {
   "cell_type": "code",
   "execution_count": null,
   "metadata": {},
   "outputs": [],
   "source": [
    "# Grouping the DataFrame by \"Gender\"\n",
    "\n",
    "#countGender  #.count()   .value.count()\n",
    "#countGender = purchase_data.groupby(\"Gender\")\n",
    "countGender_df = (purchase_data[\"Gender\"].value_counts())\n",
    "#countGender_df[\"Total Count\"] = countGender_df\n",
    "countGender_df\n",
    "\n",
    "#countGender_df1 =pd.DataFrame(purchase_data[\"Gender\"].value_counts())\n",
    "#countGender_df[\"Total Count\"] = countGender_df1[\"Gender\"]\n",
    "#countGender_df= countGender_df1[\"Gender\"]\n",
    "#renamed_df = pd.DataFrame(countGender_df.rename(columns={\"Gender\":\"Total Count\"}))\n",
    "#renamed_df\n",
    "\n",
    "#\n",
    "##???renamed_df[\"Percentage of Players\"]={GenderPercent}\n",
    "####==>Length of values (1) does not match length of index (3)"
   ]
  },
  {
   "cell_type": "code",
   "execution_count": null,
   "metadata": {},
   "outputs": [],
   "source": [
    "GenderSum = len(purchase_data[\"Gender\"])\n",
    "\n",
    "#GenderPercent= pd.DataFrame((countGender_df/GenderSum)*100).style.format('{0:,.2f}%')\n",
    "GenderPercent= ((countGender_df/GenderSum)*100)\n",
    "#GenderPercent_df= (GenderPercent).style.format('{0:,.2f}%')\n",
    "GenderPercent\n",
    "\n",
    "###GenderPercent_df = pd.DataFrame(GenderPercent.rename(columns={\"Gender\": \"Percentage of Players\"}))\n",
    "# Rename the \"Gender\" column to \"Percentage of Players\"\n",
    "#GenderPercent_df = GenderPercent.data.rename(\n",
    " #   columns={\"Gender\": \"Percentage of Players\"}, inplace = False).style.format('{0:,.2f}%')\n",
    "#GenderPercent_df=pd.DataFrame[\"Total Count\":countGender_df,\"Percentage of Players\"]\n",
    "#GenderPercent_df"
   ]
  },
  {
   "cell_type": "code",
   "execution_count": null,
   "metadata": {},
   "outputs": [],
   "source": [
    "#GenderCountDF =pd.DataFrame({ \"Total Count\":countGender_df, \"Percentage of Players\":GenderPercent_df})\n",
    "#GenderCountDF = purchase_data.set_index(['Gender']) \n",
    "#GenderCountDF\n",
    "\n",
    "GenderCountDF =pd.DataFrame({ \"Total Count\":countGender_df\n",
    "                             , \"Percentage of Players\":GenderPercent})\n",
    "#GenderCountDF = purchase_data.set_index(['Gender']) \n",
    "GenderCountDF"
   ]
  },
  {
   "cell_type": "code",
   "execution_count": null,
   "metadata": {},
   "outputs": [],
   "source": [
    "### Merge??? the \"Percent of Players\" into the DataFrame\n",
    "#GenderCountDF = renamed_df.merge(GenderPercent.data, on=(\"Gender\"))\n",
    "#GenderCountDF.head()"
   ]
  },
  {
   "cell_type": "code",
   "execution_count": null,
   "metadata": {},
   "outputs": [],
   "source": [
    "# display gendercount and percentage\n",
    "\n",
    "### Merge??? the \"Percent of Players\" into the DataFrame\n",
    "#GenderCountDF = GenderPercent_df({'Total Count':[countGender], 'Percentage of Players':[GenderPercent]})\n",
    "\n",
    "### pass index??\n",
    "#GenderCountDF =pd.DataFrame({ \"Gender\":countGender, \"Total Count\":countGender_df, \"Percentage of Players\":GenderPercent \n",
    "#             })\n",
    "#GenderCountDF= GenderCountDF.reset_index()\n",
    "#df2= pd.DataFrame(GenderCountDF)\n",
    "#df2\n",
    "\n",
    "#GenderCountDF =pd.DataFrame({ \"Total Count\":countGender_df, \"Percentage of Players\":GenderPercent})\n",
    "#GenderCountDF = purchase_data.set_index(['Gender']) \n",
    "#GenderCountDF"
   ]
  },
  {
   "cell_type": "code",
   "execution_count": null,
   "metadata": {},
   "outputs": [],
   "source": [
    "# agg???\n",
    "#(purchase_data.groupby(\"Gender\")[avgPrice] \n",
    "#  .agg(['mean','totalRev']))\n",
    "#  .style.format('${0:,.2f}')"
   ]
  },
  {
   "cell_type": "markdown",
   "metadata": {},
   "source": [
    "\n",
    "## Purchasing Analysis (Gender)"
   ]
  },
  {
   "cell_type": "markdown",
   "metadata": {},
   "source": [
    "* Run basic calculations to obtain purchase count, avg. purchase price, avg. purchase total per person etc. by gender\n",
    "\n",
    "\n",
    "\n",
    "\n",
    "* Create a summary data frame to hold the results\n",
    "\n",
    "\n",
    "* Optional: give the displayed data cleaner formatting\n",
    "\n",
    "\n",
    "* Display the summary data frame"
   ]
  },
  {
   "cell_type": "code",
   "execution_count": null,
   "metadata": {},
   "outputs": [],
   "source": [
    "# extract columns\n",
    "purchaseGender_df = purchase_data[[\"Purchase ID\",\"SN\",\"Gender\",\"Item ID\",\"Item Name\",\"Price\"]]\n",
    "purchaseGender_df"
   ]
  },
  {
   "cell_type": "code",
   "execution_count": null,
   "metadata": {},
   "outputs": [],
   "source": [
    "# Run basic calculations to obtain purchase count, avg. purchase price, avg. purchase total per person etc. by gender\n",
    "gender_group = purchaseGender_df.groupby([\"Gender\"])\n",
    "gender_group.head()\n",
    "\n",
    "# purchase count by gender\n",
    "gender_group_count= gender_group[\"Gender\"].count()\n",
    "\n",
    "# Average Purchase Price by gender\n",
    "gender_avgPrice= round(gender_group[\"Price\"].mean(),2)\n",
    "\n",
    "# Total Purchase Value by gender\n",
    "gender_TotalPurchase =gender_group[\"Price\"].sum()\n",
    "gender_TotalPurchase\n",
    "#gender_TotalPurchase = gender_avgPrice * gender_group_count\n",
    "\n",
    "# Avg Total Purchase per Perso by gender\n",
    "avg_TotalPurchase = gender_group_count * gender_avgPrice\n",
    "avg_TotalPurchase\n",
    "\n",
    "# avg total purchase per person\n",
    "#avg_personPurchase = gender_TotalPurchase /gender_group_count\n",
    "# display in form\n",
    "GenderCountDF1 =pd.DataFrame({ \"Purchase Count\":gender_group_count, \"Average Purchase Price\":gender_avgPrice ,\n",
    "                              \"Total Purchase Value\": gender_TotalPurchase , \n",
    "                              \"Avg Total Purchase per Person\":avg_personPurchase })\n",
    "#  .style.format('$(0:,.2f)')              , \"Percentage of Players\":GenderPercent})\n",
    "#GenderCountDF1\n",
    "\n",
    "df2 = pd.DataFrame(GenderCountDF1)\n",
    "df2[\"Average Purchase Price\"] = df2[\"Average Purchase Price\"].map(\n",
    "    \"${0:,.2f}\".format)\n",
    "df2[\"Total Purchase Value\"] = df2[\"Total Purchase Value\"].map(\n",
    "    \"${0:,.2f}\".format)\n",
    "df2[\"Avg Total Purchase per Person\"] = df2[\"Avg Total Purchase per Person\"].map(\n",
    "    \"${0:,.2f}\".format)\n",
    "df2"
   ]
  },
  {
   "cell_type": "code",
   "execution_count": null,
   "metadata": {},
   "outputs": [],
   "source": [
    "\n",
    "#Create a summary data frame to hold the results\n",
    "#Optional: give the displayed data cleaner formatting\n",
    "#Display the summary data frame\n",
    "\n",
    "# Create a GroupBy object based upon \"View Group\"\n",
    "##ted_group = ted_df.groupby(\"View Group\")\n",
    "# Find how many rows fall into each bin\n",
    "##print(ted_group[\"comments\"].count())\n",
    "# Get the average of each column within the GroupBy object\n",
    "##ted_group[[\"comments\", \"duration\", \"languages\"]].mean()\n",
    "####\n",
    "\n",
    "countGender = purchase_data.groupby(\"Gender\") \n",
    "countGender_df =pd.DataFrame(purchase_data[\"Gender\"].value_counts())\n",
    "countGender_df\n",
    "# Number of unique item\n",
    "Number_of_unique_Item = len(set(purchase_data['Item Name']))\n",
    "print(\"Number of Unique Items \", Number_of_unique_Item)\n",
    "\n",
    "# Average price and get decimal 2\n",
    "avgPrice = round(purchase_data[\"Price\"].mean(),2)\n",
    "print(\"Average Price \", avgPrice)\n",
    "\n",
    "# Number of PurchasesavgPrice\n",
    "number_of_purchases=len(purchase_data)\n",
    "print(\"Number of Purchases \", number_of_purchases)\n",
    "\n",
    "# Collecting the total revenue\n",
    "totalRev = purchase_data[\"Price\"].sum()\n",
    "print(\"Total Revenue \", totalRev)"
   ]
  },
  {
   "cell_type": "markdown",
   "metadata": {},
   "source": [
    "## Age Demographics"
   ]
  },
  {
   "cell_type": "markdown",
   "metadata": {},
   "source": [
    "* Establish bins for ages\n",
    "\n",
    "\n",
    "* Categorize the existing players using the age bins. Hint: use pd.cut()\n",
    "\n",
    "\n",
    "* Calculate the numbers and percentages by age group\n",
    "\n",
    "\n",
    "* Create a summary data frame to hold the results\n",
    "\n",
    "\n",
    "* Optional: round the percentage column to two decimal points\n",
    "\n",
    "\n",
    "* Display Age Demographics Table\n"
   ]
  },
  {
   "cell_type": "code",
   "execution_count": null,
   "metadata": {},
   "outputs": [],
   "source": [
    "df3 = pd.DataFrame(purchase_data[\"Age\"]).max()\n",
    "df3\n",
    "df4 = pd.DataFrame(purchase_data[\"Age\"]).min()\n",
    "df4\n",
    "df5 = pd.DataFrame(purchase_data[\"Age\"]).columns\n",
    "#print(\"Age\",[age])\n",
    "\n",
    "df5 = purchase_data.sort_values(\"Age\")\n",
    "df5\n",
    "\n",
    "#Age ={\"Number of Unique Items\":[Number_of_unique_Item], \"Average Price\":[avgPrice], \n",
    "#                \"Number of Purchases\":[number_of_purchases],\"Total Revenue\":[totalRev]\n",
    "##              } \n",
    "#SummaryData[\"Total Revenue\"] = SummaryData[\"Total Revenue\"].map(\"${0:,.0f}\".format)\n",
    "#Optional: give the displayed data cleaner formatting   #.style.format('${0:,.2f}'))   , '${:.2f}'.format \n",
    "#df1 = pd.DataFrame(SummaryData)\n",
    "#df1[\"Total Revenue\"] = df1[\"Total Revenue\"].map(\n",
    "#    \"${0:,.2f}\".format)"
   ]
  },
  {
   "cell_type": "code",
   "execution_count": null,
   "metadata": {},
   "outputs": [],
   "source": [
    "# Establish the bins in which \"age\" data will be held\n",
    "bins =[0, 9, 15, 19, 24, 29, 34, 39, 40]\n",
    "# create the names for the 8 bins\n",
    "group_names= [\"<10\",\"10-14\",\"15-19\",\"20-24\",\"25-29\",\"30-34\",\"35-39\",\"40+\"]\n",
    "\n",
    "#Categorize the existing players using the age bins. Hint: use pd.cut()\n",
    "#Calculate the numbers and percentages by age group\n",
    "#Create a summary data frame to hold the results\n",
    "#Optional: round the percentage column to two decimal points\n",
    "#Display Age Demographics Table\n",
    "\n",
    "#pd.cut(ted_df[\"views\"], bins, labels=group_labels)\n",
    "age_group = purchase_data.groupby(\"Age\")\n",
    "age_group[\"Total Count\"]= pd.cut(purchase_data[\"Age\"], bins, labels=group_names)\n",
    "age_group.head()\n",
    "df[\"Test Score Summary\"] = pd.cut(df[\"Test Score\"], bins, labels=group_names, include_lowest=True)\n",
    "df\n",
    "#purchase_data[\"Total Count\"]= pd.cut(purchase_data[\"Total Count\"])\n",
    "#purchase_data{\"age\"}=pd.cut(purchase_data[\"age\"].value_counts\n",
    "\n",
    "#ted_df[\"View Group\"] = pd.cut(ted_df[\"views\"], bins, labels=group_labels)\n",
    "#ted_df.head()\n",
    "\n",
    "#df[\"Test Score Summary\"] = pd.cut(df[\"Test Score\"], bins, labels=group_names, include_lowest=True)\n",
    "#df\n",
    "                            \n",
    "#####Total Count Percentage of Players\n",
    "\n",
    "#total = purchase_data['totalRev'].str.strip('$').astype(int).sum()\n",
    "#pandas 3.6+\n",
    "#purchase_data.loc['Total Revenue', 'totalRev'] = f'${total}'\n",
    "#pandas below 3.6\n",
    "#available_cart_item.loc['Total', 'total_amount'] = '${}'.format(total)\n",
    "#purchase_data = purchase_data.fillna('')\n",
    "#print (purchase_data)\n",
    "#       total_amount price quant\n",
    "\n",
    "#s=[purchase_data]\n",
    "#print type(s)\n",
    "#if type(s) in (Purchase ID,SN,Age,Gender,Item ID,Item Name,Price): \n",
    "#  print (len(s))\n",
    "#else:\n",
    "#  print \"not a list\""
   ]
  },
  {
   "cell_type": "code",
   "execution_count": null,
   "metadata": {},
   "outputs": [],
   "source": [
    "purchase_data.head()"
   ]
  },
  {
   "cell_type": "markdown",
   "metadata": {},
   "source": [
    "## Purchasing Analysis (Age)"
   ]
  },
  {
   "cell_type": "markdown",
   "metadata": {},
   "source": [
    "* Bin the purchase_data data frame by age\n",
    "\n",
    "\n",
    "* Run basic calculations to obtain purchase count, avg. purchase price, avg. purchase total per person etc. in the table below\n",
    "\n",
    "\n",
    "* Create a summary data frame to hold the results\n",
    "\n",
    "\n",
    "* Optional: give the displayed data cleaner formatting\n",
    "\n",
    "\n",
    "* Display the summary data frame"
   ]
  },
  {
   "cell_type": "code",
   "execution_count": null,
   "metadata": {},
   "outputs": [],
   "source": [
    "list1 = [purchase_data,'Purchase ID','SN','Age','Gender','Item ID','Item Name','Price']"
   ]
  },
  {
   "cell_type": "markdown",
   "metadata": {},
   "source": [
    "## Top Spenders"
   ]
  },
  {
   "cell_type": "markdown",
   "metadata": {},
   "source": [
    "* Run basic calculations to obtain the results in the table below\n",
    "\n",
    "\n",
    "* Create a summary data frame to hold the results\n",
    "\n",
    "\n",
    "* Sort the total purchase value column in descending order\n",
    "\n",
    "\n",
    "* Optional: give the displayed data cleaner formatting\n",
    "\n",
    "\n",
    "* Display a preview of the summary data frame\n",
    "\n"
   ]
  },
  {
   "cell_type": "code",
   "execution_count": null,
   "metadata": {},
   "outputs": [],
   "source": [
    "# sort total purchase value column in descending order\n",
    "#Optional: give the displayed data cleaner formatting\n",
    "#Display a preview of the summary data frame\n",
    "\n",
    "# Sorting the DataFrame based on \"Freedom\" column\n",
    "# Will sort from lowest to highest if no other parameter is passed\n",
    "freedom_df = happiness_df.sort_values(\"Freedom\")\n",
    "freedom_df.head()\n",
    "\n",
    "# To sort from highest to lowest, ascending=False must be passed in\n",
    "freedom_df = happiness_df.sort_values(\"Freedom\", ascending=False)\n",
    "freedom_df.head()\n",
    "# It is possible to sort based upon multiple columns\n",
    "family_and_generosity_df = happiness_df.sort_values(\n",
    "    [\"Family\", \"Generosity\"], ascending=False)\n",
    "family_and_generosity_df.head()\n",
    "\n",
    "#countItem_group= purchase_data[\"Item Name\"].value_counts()\n",
    "#assignee_group = eclipse_df.groupby(\"Item Name\")\n",
    "#countItem_group= purchase_data[\"Item Name\"].value_counts()\n",
    "#countItem_group\n",
    "\n",
    "# Count how many of each component Assignees worked on and create DataFrame\n",
    "#assignee_work_df = pd.DataFrame(assignee_group[\"Component\"].value_counts())\n",
    "#assignee_work_df.head()\n",
    "\n",
    "#print(purchase_data[countItem_df].max())\n",
    "#maxPurchaseItem= pd.DataFrame(\"Item ID\",\"Item Name\",\"Price\")\n",
    "#print(ted_df[\"views\"].min())\n",
    "#df5_df[\"Item ID\"] = purchase_data[\"Item ID\"]\n",
    "            #.map(\"${:.2f}\".format)\n",
    "#df5_df[\"Item Name\"] = purchase_data[\"population\"].map(\"{:,}\".format)\n",
    "#df5_df[\"Purchase Count\"] = purchase_data[\"other\"].map(\"{:.2f}\".format)\n",
    "#df5_df[\"Item Price\"] = purchase_data[\"other\"].map(\"{:.2f}\".format)\n",
    "#df5_df[\"Total Purchase Value\"] = purchase_data[\"Price\"].map(\"{:.2f}\".format)\n",
    "            \n",
    "#df5_df.head()  "
   ]
  },
  {
   "cell_type": "markdown",
   "metadata": {},
   "source": [
    "## Most Popular Items"
   ]
  },
  {
   "cell_type": "markdown",
   "metadata": {},
   "source": [
    "* Retrieve the Item ID, Item Name, and Item Price columns\n",
    "\n",
    "\n",
    "* Group by Item ID and Item Name. Perform calculations to obtain purchase count, average item price, and total purchase value\n",
    "\n",
    "\n",
    "* Create a summary data frame to hold the results\n",
    "\n",
    "\n",
    "* Sort the purchase count column in descending order\n",
    "\n",
    "\n",
    "* Optional: give the displayed data cleaner formatting\n",
    "\n",
    "\n",
    "* Display a preview of the summary data frame\n",
    "\n"
   ]
  },
  {
   "cell_type": "code",
   "execution_count": null,
   "metadata": {},
   "outputs": [],
   "source": [
    "purchase_data.columns"
   ]
  },
  {
   "cell_type": "code",
   "execution_count": null,
   "metadata": {},
   "outputs": [],
   "source": [
    "# Retrieve columns: Item ID, Item Name, and Item Price\n",
    "popItem_df = purchase_data.loc[:, [\"Item ID\", \"Item Name\", \"Price\"]]\n",
    "\n",
    "popItem_df = popItem_df.rename(\n",
    "    columns={\"Price\": \"Item Price\"})\n",
    "popItem_df"
   ]
  },
  {
   "cell_type": "code",
   "execution_count": null,
   "metadata": {},
   "outputs": [],
   "source": [
    "# Group by Item ID and Item Name\n",
    "countItem_group_df = pd.DataFrame(popItem_df[\"Item Name\"].value_counts())\n",
    "countItem_group_df.head(5)\n",
    "\n",
    "popItem_count= popItem_df[\"Item Name\"].value_counts()\n",
    "#popItem_sum= popItem_df[\"Item Price\"].sum()\n",
    "\n",
    "#popItem_df.columns\n",
    "#Index(['Item ID', 'Item Name', 'Item Price'], dtype='object')\n",
    "\n",
    "# reset index to provide index numbers based on the new rankings\n",
    "#new_index_df = family_and_generosity_df.reset_index(drop=True)\n",
    "#new_index_df.head()\n",
    "\n",
    "#pokemon_group = pokemon_type_df.groupby([\"Type 1\"])\n",
    "#pokemon_comparison_df = pokemon_group.mean()\n",
    "#pokemon_comparison_df\n",
    "\n",
    "#print(popItem_df[\"Item Name\"].value_counts())\n",
    "#print(\"total price\":popItem_df[\"Price\"].sum())\n",
    "\n",
    "#countItem_group_df=pd.DataFrame(\"ItemName\":[\"Item Name\"],\"Item Count\": [popItem_count])\n",
    "#countItem_group_df.head()\n",
    "\n",
    "#print (\"Popular Item\",popItem_count)\n",
    "\n",
    "# Catcutations purchase count\n",
    "#print(ItemID_group[\"Item ID\"].count())\n",
    "#countItem_group_df=df.DataFrame{\"Item ID\":countItem_group_df)}\n",
    "#,[\"Item Name\"],\"Purchase Count\":[popItem_count],\n",
    "#                                \"Total Price\":popItem_sum}"
   ]
  },
  {
   "cell_type": "code",
   "execution_count": null,
   "metadata": {},
   "outputs": [],
   "source": [
    "#average_donation = hosted_in_us_df['pledged'] / hosted_in_us_df['backers_count']\n",
    "#average_donatio\n",
    "# count Total Purchase Value\n",
    "print (popItem_df[\"Item Price\"])\n",
    "#TotalPurchase= ([popItem_count]* popItem_df[\"Item Price\"])\n",
    "#TotalPurchas\n",
    "#popItem_count[(popItem_df[\"Item ID\",\"Item Name\",\"Purchase Count\",\"Item Price\"])]\n",
    "#                          #,\"Total Purchase Value\":[Price.sum()]])]"
   ]
  },
  {
   "cell_type": "code",
   "execution_count": null,
   "metadata": {},
   "outputs": [],
   "source": [
    "# Create a list of the columns\n",
    "#columns = [\n",
    "#    \"Item ID\",\"Item Name\",\"Purchase Count\",\"Item Price\",\"Total Purchase Value\"]\n",
    "\n",
    "#hosted_in_us_df = reduced_kickstarter_df.loc[reduced_kickstarter_df[\"country\"] == \"US\",  columns]\n",
    "#hosted_in_us_df.head()\n",
    "#popItem_df= pd.DataFrame({\"Item Price\": popItem_df[\"Price\"],\n",
    "#                        \"Purchase Count\":popItem_count})\n",
    "#popItem_df.head(5)\n",
    "#state_summary_df = pd.DataFrame({\"Number of Sightings\": state_counts,\n",
    "#                                    \"Total Visit Time\": state_duration})\n",
    "#state_summary_df.head()"
   ]
  },
  {
   "cell_type": "code",
   "execution_count": null,
   "metadata": {},
   "outputs": [],
   "source": [
    "popItem_df = purchase_data.loc[:, [\"Item ID\", \"Item Name\", \"Price\"]]\n",
    "popItem_df\n",
    "\n",
    "# Slice the data and place it into bins\n",
    "#pd.cut(countItem_group_df[\"Item Name\"], bins, labels=group_labels).head()\n",
    "pd.cut(countItem_group_df[\"Item Name\"], bins, labels=group_names).head()\n"
   ]
  },
  {
   "cell_type": "code",
   "execution_count": null,
   "metadata": {},
   "outputs": [],
   "source": [
    "#Group by Item ID and Item Name. Perform calculations to obtain purchase count, average item price, and total purchase value\n",
    "#Create a summary data frame to hold the results\n",
    "#Sort the purchase count column in descending order\n",
    "#Optional: give the displayed data cleaner formatting\n",
    "#Display a preview of the summary data frame\n",
    "\n",
    "# Create a GroupBy object based upon \"View Group\"\n",
    "ted_group = ted_df.groupby(\"View Group\")\n",
    "\n",
    "# Find how many rows fall into each bin\n",
    "print(ted_group[\"comments\"].count())\n",
    "\n",
    "# Get the average of each column within the GroupBy object\n",
    "ted_group[[\"comments\", \"duration\", \"languages\"]].mean()\n",
    "\n",
    "# Purchase \n",
    "# Create a GroupBy object based upon \"Item Name\"\n",
    "#ItemID_group = purchase_data.groupby(\"Item Name\")\n",
    "ItemID_group = popItem_df.groupby(\"Item Name\")\n",
    "ItemID_group.head()\n",
    "\n",
    "\n",
    "# Catcutations purchase count\n",
    "#print(ItemID_group[\"Item ID\"].count())\n",
    "#print(ItemID_group[\"Item Name\"].count())\n",
    "#\n",
    "#ItemID_group[[\"Item Name\", \"Price\"]].mean()\n",
    "#ItemID_group\n",
    "\n",
    "#countItem_group_df = pd.DataFrame(purchase_data[\"Item Name\"].value_counts())\n",
    "#countItem_group_df.head(5)\n",
    "\n",
    "# Get the average of each column within the GroupBy object\n",
    "#ted_group[[\"comments\", \"duration\", \"languages\"]].mean()\n",
    "\n",
    "#countItem_group_df.columns"
   ]
  },
  {
   "cell_type": "code",
   "execution_count": null,
   "metadata": {},
   "outputs": [],
   "source": [
    "\n",
    "\n",
    "#popItemTotal_df = popItem_df.loc[:, [\"Item ID\", \"Item Name\",\n",
    "#                                     \"Item\",'Item Price': \"Price\"]\n",
    "#popItemTotal_df"
   ]
  },
  {
   "cell_type": "markdown",
   "metadata": {},
   "source": [
    "## Most Profitable Items"
   ]
  },
  {
   "cell_type": "markdown",
   "metadata": {},
   "source": [
    "* Sort the above table by total purchase value in descending order\n",
    "\n",
    "\n",
    "* Optional: give the displayed data cleaner formatting\n",
    "\n",
    "\n",
    "* Display a preview of the data frame\n",
    "\n"
   ]
  },
  {
   "cell_type": "code",
   "execution_count": null,
   "metadata": {
    "scrolled": true
   },
   "outputs": [],
   "source": []
  },
  {
   "cell_type": "code",
   "execution_count": null,
   "metadata": {},
   "outputs": [],
   "source": []
  },
  {
   "cell_type": "code",
   "execution_count": null,
   "metadata": {},
   "outputs": [],
   "source": []
  }
 ],
 "metadata": {
  "anaconda-cloud": {},
  "kernel_info": {
   "name": "python3"
  },
  "kernelspec": {
   "display_name": "Python 3",
   "language": "python",
   "name": "python3"
  },
  "language_info": {
   "codemirror_mode": {
    "name": "ipython",
    "version": 3
   },
   "file_extension": ".py",
   "mimetype": "text/x-python",
   "name": "python",
   "nbconvert_exporter": "python",
   "pygments_lexer": "ipython3",
   "version": "3.8.8"
  },
  "latex_envs": {
   "LaTeX_envs_menu_present": true,
   "autoclose": false,
   "autocomplete": true,
   "bibliofile": "biblio.bib",
   "cite_by": "apalike",
   "current_citInitial": 1,
   "eqLabelWithNumbers": true,
   "eqNumInitial": 1,
   "hotkeys": {
    "equation": "Ctrl-E",
    "itemize": "Ctrl-I"
   },
   "labels_anchors": false,
   "latex_user_defs": false,
   "report_style_numbering": false,
   "user_envs_cfg": false
  },
  "nteract": {
   "version": "0.2.0"
  }
 },
 "nbformat": 4,
 "nbformat_minor": 2
}
